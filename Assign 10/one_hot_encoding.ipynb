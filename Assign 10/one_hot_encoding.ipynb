{
  "nbformat": 4,
  "nbformat_minor": 0,
  "metadata": {
    "colab": {
      "provenance": []
    },
    "kernelspec": {
      "name": "python3",
      "display_name": "Python 3"
    },
    "language_info": {
      "name": "python"
    }
  },
  "cells": [
    {
      "cell_type": "markdown",
      "source": [
        "#One Hot Encoding\n"
      ],
      "metadata": {
        "id": "XbNh9mXWPUZj"
      }
    },
    {
      "cell_type": "markdown",
      "source": [
        "Kavish Nag\n",
        "\n",
        "24070126085\n",
        "\n",
        "AIML B1"
      ],
      "metadata": {
        "id": "BuDr6EmyPXHt"
      }
    },
    {
      "cell_type": "markdown",
      "source": [
        "- Creating the data\n"
      ],
      "metadata": {
        "id": "I9mlsboaW0rt"
      }
    },
    {
      "cell_type": "code",
      "execution_count": null,
      "metadata": {
        "colab": {
          "base_uri": "https://localhost:8080/"
        },
        "id": "VOQeyJPXVVCe",
        "outputId": "398937f8-8bab-42c0-b8dc-de2484fa3f61"
      },
      "outputs": [
        {
          "output_type": "stream",
          "name": "stdout",
          "text": [
            "  team  points\n",
            "0    A      25\n",
            "1    A      12\n",
            "2    B      15\n",
            "3    B      14\n",
            "4    B      19\n",
            "5    B      23\n",
            "6    C      25\n",
            "7    C      29\n"
          ]
        }
      ],
      "source": [
        "import pandas as pd\n",
        "df=pd.DataFrame({'team':['A','A','B','B','B','B','C','C'],'points':[25,12,15,14,19,23,25,29]})\n",
        "\n",
        "print(df)"
      ]
    },
    {
      "cell_type": "markdown",
      "source": [
        "- Perform One-Hot Encoding"
      ],
      "metadata": {
        "id": "fm9WjIF6W9Id"
      }
    },
    {
      "cell_type": "code",
      "source": [
        "from sklearn.preprocessing import OneHotEncoder\n",
        "#Creating instance of one-hot encoder\n",
        "encoder = OneHotEncoder(handle_unknown='ignore') #handle_unknown - controls what happens when you try to transform data that contains categories not seen during fitting.\n",
        "\n",
        "#perform one-hot encoding on 'team' column\n",
        "encoder_df = pd.DataFrame(encoder.fit_transform(df[['team']]).toarray())\n",
        "\n",
        "#merge one-hot encoded columns back with original DataFrame\n",
        "final_df = df.join(encoder_df)\n",
        "\n",
        "#view final df\n",
        "print(final_df)"
      ],
      "metadata": {
        "colab": {
          "base_uri": "https://localhost:8080/"
        },
        "id": "IgA23pKWW7eU",
        "outputId": "b2c4a814-ebb6-48b1-f526-a26428c3bf63"
      },
      "execution_count": null,
      "outputs": [
        {
          "output_type": "stream",
          "name": "stdout",
          "text": [
            "  team  points    0    1    2\n",
            "0    A      25  1.0  0.0  0.0\n",
            "1    A      12  1.0  0.0  0.0\n",
            "2    B      15  0.0  1.0  0.0\n",
            "3    B      14  0.0  1.0  0.0\n",
            "4    B      19  0.0  1.0  0.0\n",
            "5    B      23  0.0  1.0  0.0\n",
            "6    C      25  0.0  0.0  1.0\n",
            "7    C      29  0.0  0.0  1.0\n"
          ]
        }
      ]
    },
    {
      "cell_type": "markdown",
      "source": [
        "DROP the original categorical variable"
      ],
      "metadata": {
        "id": "msy9dNhCYRs_"
      }
    },
    {
      "cell_type": "code",
      "source": [
        "#drop 'team' variable\n",
        "final_df.drop('team', axis=1, inplace=True)\n",
        "\n",
        "#view final df\n",
        "print(final_df)"
      ],
      "metadata": {
        "colab": {
          "base_uri": "https://localhost:8080/"
        },
        "id": "CXlTN3ZIXSpz",
        "outputId": "f0666cd9-f44a-4490-b942-7d6299beaa5b"
      },
      "execution_count": null,
      "outputs": [
        {
          "output_type": "stream",
          "name": "stdout",
          "text": [
            "   points    0    1    2\n",
            "0      25  1.0  0.0  0.0\n",
            "1      12  1.0  0.0  0.0\n",
            "2      15  0.0  1.0  0.0\n",
            "3      14  0.0  1.0  0.0\n",
            "4      19  0.0  1.0  0.0\n",
            "5      23  0.0  1.0  0.0\n",
            "6      25  0.0  0.0  1.0\n",
            "7      29  0.0  0.0  1.0\n"
          ]
        }
      ]
    },
    {
      "cell_type": "markdown",
      "source": [
        "#Practice Example"
      ],
      "metadata": {
        "id": "x9MWjtmBf_nI"
      }
    },
    {
      "cell_type": "markdown",
      "source": [
        "Create a dataframe with columns as \"Gender\",\"Age\",\"Degree\".\n",
        "\n",
        "Create 10 data Values in this data set\n",
        "Apply one-hot encoding on the column:\n",
        "1. Gender\n",
        "2. Degree"
      ],
      "metadata": {
        "id": "iFNdsUFsZTW9"
      }
    },
    {
      "cell_type": "code",
      "source": [
        "import pandas as pd\n",
        "data = ['Gender','Age','Degree']\n",
        "# Create an empty DataFrame with specified columns\n",
        "df=pd.DataFrame(columns=data)\n",
        "print(df)"
      ],
      "metadata": {
        "colab": {
          "base_uri": "https://localhost:8080/"
        },
        "id": "lJrGSu8bYbbI",
        "outputId": "909e7d92-549b-4573-fbca-a32755f32b40"
      },
      "execution_count": null,
      "outputs": [
        {
          "output_type": "stream",
          "name": "stdout",
          "text": [
            "Empty DataFrame\n",
            "Columns: [Gender, Age, Degree]\n",
            "Index: []\n"
          ]
        }
      ]
    },
    {
      "cell_type": "code",
      "source": [
        "import pandas as pd\n",
        "import random\n",
        "\n",
        "Gender = ['M', 'F']\n",
        "num_users = 10\n",
        "\n",
        "# Populate the 'Gender' column with random choices\n",
        "df['Gender'] = random.choices(Gender, weights=(50,50), k=num_users)\n",
        "print(df)"
      ],
      "metadata": {
        "colab": {
          "base_uri": "https://localhost:8080/"
        },
        "id": "0LlTf7UThQXB",
        "outputId": "5dbd2164-21b0-4cf4-d09d-9354bb22418f"
      },
      "execution_count": null,
      "outputs": [
        {
          "output_type": "stream",
          "name": "stdout",
          "text": [
            "  Gender  Age Degree\n",
            "0      M  NaN    NaN\n",
            "1      F  NaN    NaN\n",
            "2      M  NaN    NaN\n",
            "3      F  NaN    NaN\n",
            "4      F  NaN    NaN\n",
            "5      F  NaN    NaN\n",
            "6      M  NaN    NaN\n",
            "7      F  NaN    NaN\n",
            "8      M  NaN    NaN\n",
            "9      F  NaN    NaN\n"
          ]
        }
      ]
    },
    {
      "cell_type": "code",
      "source": [
        "Gender = ['M', 'F']\n",
        "num_users = 10\n",
        "# Fill genders randomly\n",
        "df['Gender'] = random.choices(Gender, weights=(50,50), k=num_users)\n",
        "print(df)"
      ],
      "metadata": {
        "id": "Ss9EOXpThden"
      },
      "execution_count": null,
      "outputs": []
    },
    {
      "cell_type": "code",
      "source": [
        "df['Age']=random.choices(range(10,20),k=num_users)\n",
        "print(df)"
      ],
      "metadata": {
        "colab": {
          "base_uri": "https://localhost:8080/"
        },
        "id": "X81CuppZhzdp",
        "outputId": "970e55d5-ec88-40c5-f9bf-c729392fdb7c"
      },
      "execution_count": null,
      "outputs": [
        {
          "output_type": "stream",
          "name": "stdout",
          "text": [
            "  Gender  Age Degree\n",
            "0      M   17    NaN\n",
            "1      F   17    NaN\n",
            "2      M   19    NaN\n",
            "3      F   18    NaN\n",
            "4      F   10    NaN\n",
            "5      F   13    NaN\n",
            "6      M   12    NaN\n",
            "7      F   16    NaN\n",
            "8      M   13    NaN\n",
            "9      F   11    NaN\n"
          ]
        }
      ]
    },
    {
      "cell_type": "code",
      "source": [
        "Degree=['Bcom','Btech','BBA']\n",
        "# filling degrees randomly\n",
        "df['Degree'] = random.choices(Degree, k=num_users)\n",
        "print(df)"
      ],
      "metadata": {
        "colab": {
          "base_uri": "https://localhost:8080/"
        },
        "id": "bbqBGlrDh9iE",
        "outputId": "06eb917e-f545-4782-b309-490ec89c8fd2"
      },
      "execution_count": null,
      "outputs": [
        {
          "output_type": "stream",
          "name": "stdout",
          "text": [
            "  Gender  Age Degree\n",
            "0      M   17   Bcom\n",
            "1      F   17    BBA\n",
            "2      M   19  Btech\n",
            "3      F   18   Bcom\n",
            "4      F   10  Btech\n",
            "5      F   13    BBA\n",
            "6      M   12    BBA\n",
            "7      F   16   Bcom\n",
            "8      M   13   Bcom\n",
            "9      F   11  Btech\n"
          ]
        }
      ]
    },
    {
      "cell_type": "code",
      "source": [
        "from sklearn.preprocessing import OneHotEncoder\n",
        "\n",
        "encoder1 = OneHotEncoder(handle_unknown='ignore')\n",
        "#perform one-hot encoding on 'team' column\n",
        "encoder1_df = pd.DataFrame(encoder.fit_transform(df[['Gender','Degree']]).toarray())\n",
        "\n",
        "final_df1 = df.join(encoder1_df)\n",
        "\n",
        "print(final_df1)"
      ],
      "metadata": {
        "colab": {
          "base_uri": "https://localhost:8080/"
        },
        "id": "7DQtlZntiLTC",
        "outputId": "55da731d-9ebf-465c-e2ae-94fff6e4b766"
      },
      "execution_count": null,
      "outputs": [
        {
          "output_type": "stream",
          "name": "stdout",
          "text": [
            "  Gender  Age Degree    0    1    2    3    4\n",
            "0      M   17   Bcom  0.0  1.0  0.0  1.0  0.0\n",
            "1      F   17    BBA  1.0  0.0  1.0  0.0  0.0\n",
            "2      M   19  Btech  0.0  1.0  0.0  0.0  1.0\n",
            "3      F   18   Bcom  1.0  0.0  0.0  1.0  0.0\n",
            "4      F   10  Btech  1.0  0.0  0.0  0.0  1.0\n",
            "5      F   13    BBA  1.0  0.0  1.0  0.0  0.0\n",
            "6      M   12    BBA  0.0  1.0  1.0  0.0  0.0\n",
            "7      F   16   Bcom  1.0  0.0  0.0  1.0  0.0\n",
            "8      M   13   Bcom  0.0  1.0  0.0  1.0  0.0\n",
            "9      F   11  Btech  1.0  0.0  0.0  0.0  1.0\n"
          ]
        }
      ]
    },
    {
      "cell_type": "markdown",
      "source": [
        "#DUMMY VARIABLE TRAP\n"
      ],
      "metadata": {
        "id": "gp8q8TQ5ebVf"
      }
    },
    {
      "cell_type": "markdown",
      "source": [
        "The dummy variable trap is a problem in regression analysis that occurs when all categories of a categorical variable are included as dummy variables (binary indicators) alongside a constant intercept term"
      ],
      "metadata": {
        "id": "Oxa9fT7GPJaA"
      }
    }
  ]
}